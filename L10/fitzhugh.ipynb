{
 "cells": [
  {
   "cell_type": "code",
   "execution_count": 7,
   "metadata": {
    "collapsed": true,
    "scrolled": true
   },
   "outputs": [],
   "source": [
    "import numpy as np\n",
    "k = 2.0\n",
    "A = 1.0\n",
    "alpha = 0.1\n",
    "L =100\n",
    "eps = 0.005\n",
    "gamma = 2.0\n",
    "\n",
    "dx = 1;\n",
    "dt = 0.1;\n",
    "\n",
    "N = int(L/dx)\n",
    "\n",
    "V = np.zeros(N);\n",
    "W = np.zeros(N);\n",
    "left =  int(N/10);\n",
    "V[:left] = 0.3;\n",
    "\n",
    "I = np.arange(1,N-1)\n",
    "Ip = I+1\n",
    "Im = I-1;\n"
   ]
  },
  {
   "cell_type": "code",
   "execution_count": 8,
   "metadata": {
    "collapsed": true
   },
   "outputs": [],
   "source": [
    "%matplotlib inline\n",
    "import time\n",
    "import matplotlib.pyplot as pl\n",
    "from IPython import display"
   ]
  },
  {
   "cell_type": "code",
   "execution_count": 9,
   "metadata": {},
   "outputs": [
    {
     "data": {
      "image/png": "[encoded data removed]",
      "text/plain": [
       "<matplotlib.figure.Figure at 0x7f562f1b60f0>"
      ]
     },
     "metadata": {},
     "output_type": "display_data"
    },
    {
     "data": {
      "image/png": "[encoded data removed]",
      "text/plain": [
       "<matplotlib.figure.Figure at 0x7f562f1b60f0>"
      ]
     },
     "metadata": {},
     "output_type": "display_data"
    }
   ],
   "source": [
    "for i in range(2000):\n",
    "    \n",
    "    V[I] = V[I] + dt*(k/dx**2)*(V[Ip]-2*V[I] +V[Im])\n",
    "    V[0] = V[1]\n",
    "    V[N-1] = V[N-2]\n",
    "    I_ion = A*V*(1-V)*(V-alpha) -W\n",
    "    \n",
    "    V = V + dt*I_ion;\n",
    "    W = W +dt*eps*(V-gamma*W)\n",
    "    if i%20==0:\n",
    "        pl.clf()\n",
    "        pl.axis([0, L, 0, 1.1])\n",
    "        pl.plot(V)\n",
    "        pl.plot(W)\n",
    "        pl.title('i=%d' % i)\n",
    "        display.clear_output(wait=True)\n",
    "        display.display(pl.gcf())"
   ]
  },
  {
   "cell_type": "code",
   "execution_count": null,
   "metadata": {
    "collapsed": true
   },
   "outputs": [],
   "source": []
  },
  {
   "cell_type": "code",
   "execution_count": null,
   "metadata": {
    "collapsed": true
   },
   "outputs": [],
   "source": []
  },
  {
   "cell_type": "code",
   "execution_count": null,
   "metadata": {
    "collapsed": true
   },
   "outputs": [],
   "source": []
  }
 ],
 "metadata": {
  "kernelspec": {
   "display_name": "Python 3",
   "language": "python",
   "name": "python3"
  },
  "language_info": {
   "codemirror_mode": {
    "name": "ipython",
    "version": 3
   },
   "file_extension": ".py",
   "mimetype": "text/x-python",
   "name": "python",
   "nbconvert_exporter": "python",
   "pygments_lexer": "ipython3",
   "version": "3.5.2"
  }
 },
 "nbformat": 4,
 "nbformat_minor": 2
}
