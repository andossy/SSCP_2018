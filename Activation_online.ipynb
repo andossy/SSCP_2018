{
 "cells": [
  {
   "cell_type": "code",
   "execution_count": null,
   "metadata": {},
   "outputs": [],
   "source": [
    "import neo\n",
    "import pylab as plt\n",
    "import numpy as np\n",
    "%matplotlib notebook"
   ]
  },
  {
   "cell_type": "code",
   "execution_count": null,
   "metadata": {},
   "outputs": [],
   "source": [
    "f = neo.io.AxonIO('Active.abf')\n",
    "bl = f.read_block()\n",
    "time = np.linspace(0.2, 1000, 5000)\n",
    "\n",
    "plt.figure()\n",
    "for idx, seg in enumerate(bl.segments):\n",
    "    I = np.array(seg.analogsignals[0])\n",
    "    I = I[:,0]\n",
    "    plt.plot(time, I); plt.xlabel('time [ms]'); plt.ylabel('Measured current [pA]'); \n",
    "    plt.xlim([260, 280]);plt.ylim([-3500, 2000])\n",
    "plt.show()"
   ]
  },
  {
   "cell_type": "code",
   "execution_count": null,
   "metadata": {},
   "outputs": [],
   "source": [
    "plt.figure()\n",
    "\n",
    "peak = np.zeros(15)\n",
    "peak_index = np.zeros(15)\n",
    "t_peak = np.zeros(15)\n",
    "\n",
    "# loop to find peaks and store them\n",
    "for idx, seg in enumerate(bl.segments):\n",
    "    I = np.array(seg.analogsignals[0])\n",
    "    I = I[:,0]\n",
    "    # define a search range for finding the peak inward current\n",
    "    start = int(5000*(266.6/1000))\n",
    "    finish = int(1500)\n",
    "    search = I[start:finish] \n",
    "    # find the peak value, its index, and the time at the peak\n",
    "    peak[idx] = search.min()\n",
    "    peak_index[idx] = search.argmin()+start\n",
    "    t_peak[idx] = time[int(peak_index[idx])]\n",
    "    # plot a close-up of the time-series for each voltage step and the peak you have picked out \n",
    "    plt.plot(time, I,t_peak,peak,'ro'); plt.xlabel('time [ms]'); plt.ylabel('Measured current [pA]');\n",
    "    plt.xlim([265, 275]); plt.ylim([-3500, 1000])\n",
    "plt.show()"
   ]
  },
  {
   "cell_type": "code",
   "execution_count": null,
   "metadata": {
    "collapsed": true
   },
   "outputs": [],
   "source": [
    "# plot the I-V relationship"
   ]
  },
  {
   "cell_type": "code",
   "execution_count": null,
   "metadata": {
    "collapsed": true
   },
   "outputs": [],
   "source": [
    "# plot the the steady-state activation curve (g-V relationship)"
   ]
  },
  {
   "cell_type": "code",
   "execution_count": null,
   "metadata": {
    "collapsed": true
   },
   "outputs": [],
   "source": [
    "# write a subroutine to calculate and plot the inactivation time constants"
   ]
  },
  {
   "cell_type": "code",
   "execution_count": null,
   "metadata": {
    "collapsed": true
   },
   "outputs": [],
   "source": [
    "# save the data describing step voltage, inactivation time constant, \n",
    "# and peak current for each step in an output that can be retrieved later"
   ]
  }
 ],
 "metadata": {
  "kernelspec": {
   "display_name": "Python 3",
   "language": "python",
   "name": "python3"
  },
  "language_info": {
   "codemirror_mode": {
    "name": "ipython",
    "version": 3
   },
   "file_extension": ".py",
   "mimetype": "text/x-python",
   "name": "python",
   "nbconvert_exporter": "python",
   "pygments_lexer": "ipython3",
   "version": "3.5.2"
  }
 },
 "nbformat": 4,
 "nbformat_minor": 1
}
