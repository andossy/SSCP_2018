{
 "cells": [
  {
   "cell_type": "code",
   "execution_count": 21,
   "metadata": {
    "collapsed": true
   },
   "outputs": [],
   "source": [
    "from scipy.integrate import odeint\n",
    "import numpy as np\n",
    "import matplotlib.pyplot as plt\n",
    "from math import log, exp\n"
   ]
  },
  {
   "cell_type": "code",
   "execution_count": 22,
   "metadata": {
    "collapsed": false
   },
   "outputs": [
    {
     "name": "stdout",
     "output_type": "stream",
     "text": [
      "-87.89223409078865\n"
     ]
    }
   ],
   "source": [
    "R = 8314 # mJ/(K mol)\n",
    "T = 273.0+37.0 #  K\n",
    "F = 96485.33289 # C/mol\n",
    "\n",
    "K_o = 5.4;   #mM # try changing the K_o, check the effect on the solution\n",
    "K_i = 145.0; #mM\n",
    "E_K = (R*T/F)*log(K_o/K_i) # mV\n",
    "g_K = 0.1; # how does the conductace affect the solution?\n",
    "\n",
    "print(E_K)"
   ]
  },
  {
   "cell_type": "code",
   "execution_count": 23,
   "metadata": {
    "collapsed": true
   },
   "outputs": [],
   "source": [
    "# Simple Potassium current\n",
    "def i_K(V):\n",
    "\n",
    "    i_K = g_K*(V-E_K);\n",
    "    return i_K;\n",
    "\n",
    "\n",
    "#ODE for the membrane potential\n",
    "def rhs(y,t):\n",
    "    \n",
    "    V = y;\n",
    "\n",
    "    C_m = 1.0; # uF/cm^2\n",
    "\n",
    "\n",
    "    i_ion = i_K(V);\n",
    "\n",
    "\n",
    "    dV = -(1/C_m)*(i_ion);\n",
    "\n",
    "    return dV;\n",
    "\n"
   ]
  },
  {
   "cell_type": "code",
   "execution_count": 24,
   "metadata": {
    "collapsed": true
   },
   "outputs": [],
   "source": [
    "V0 = -85; # inital condition for the membrane\n",
    "Y0 = [V0];\n",
    "time = np.linspace(0,50,10001);\n",
    "Y = odeint(rhs, Y0, time)\n"
   ]
  },
  {
   "cell_type": "code",
   "execution_count": 25,
   "metadata": {
    "collapsed": false
   },
   "outputs": [
    {
     "data": {
      "image/png": "[encoded data removed]",
      "text/plain": [
       "<matplotlib.figure.Figure at 0x7ff5fde8eeb8>"
      ]
     },
     "metadata": {},
     "output_type": "display_data"
    }
   ],
   "source": [
    "plt.plot(time,Y);\n",
    "plt.show()\n"
   ]
  },
  {
   "cell_type": "code",
   "execution_count": 26,
   "metadata": {
    "collapsed": true
   },
   "outputs": [],
   "source": [
    "# adding an applied current to the model\n",
    "def rhs(y, t, i_app):\n",
    "    \n",
    "    V = y;\n",
    "\n",
    "    C_m = 1.0; # uF/cm^2\n",
    "\n",
    "    # only applied in the first millisecond:\n",
    "    if t>1:\n",
    "        i_app = 0;\n",
    "\n",
    "\n",
    "    #i_ion = i_K;\n",
    "    i_ion = i_K(V);\n",
    "\n",
    "\n",
    "    dV = -(1/C_m)*(i_ion + i_app);\n",
    "\n",
    "    return dV;\n",
    "\n"
   ]
  },
  {
   "cell_type": "code",
   "execution_count": 27,
   "metadata": {
    "collapsed": true
   },
   "outputs": [],
   "source": [
    "time = np.linspace(0,50,10001);\n",
    "i_app = -30;  # try chaning the size and sign \n",
    "P = (i_app,)\n"
   ]
  },
  {
   "cell_type": "code",
   "execution_count": 28,
   "metadata": {
    "collapsed": false
   },
   "outputs": [],
   "source": [
    "Y = odeint(rhs, Y0, time, P)\n"
   ]
  },
  {
   "cell_type": "code",
   "execution_count": 29,
   "metadata": {
    "collapsed": false
   },
   "outputs": [
    {
     "data": {
      "image/png": "[encoded data removed]",
      "text/plain": [
       "<matplotlib.figure.Figure at 0x7ff5fde24d68>"
      ]
     },
     "metadata": {},
     "output_type": "display_data"
    }
   ],
   "source": [
    "plt.plot(time,Y); plt.show()"
   ]
  },
  {
   "cell_type": "code",
   "execution_count": 30,
   "metadata": {
    "collapsed": false
   },
   "outputs": [],
   "source": [
    "Na_o = 140.0\n",
    "Na_i = 18.0;\n",
    "E_Na = (R*T/F)*log(Na_o/Na_i) # mV\n",
    "g_Na = 0.1;\n"
   ]
  },
  {
   "cell_type": "code",
   "execution_count": 31,
   "metadata": {
    "collapsed": true
   },
   "outputs": [],
   "source": [
    "# A simple Sodiun channel\n",
    "def i_Na(V):\n",
    "\n",
    "    i_Na = g_Na*(V-E_Na);\n",
    "    return i_Na;\n"
   ]
  },
  {
   "cell_type": "code",
   "execution_count": 32,
   "metadata": {
    "collapsed": true
   },
   "outputs": [],
   "source": [
    "# Add the sodium channel to the ODE:\n",
    "def rhs(y, t, i_app):\n",
    "    \n",
    "    V = y;\n",
    "\n",
    "    C_m = 1.0; # uF/cm^2\n",
    "\n",
    "    if t>1:\n",
    "        i_app = 0;\n",
    "\n",
    "    i_ion = i_K(V) + i_Na(V);\n",
    "    \n",
    "    dV = -(1/C_m)*(i_ion + i_app);\n",
    "\n",
    "    return dV;\n",
    "\n"
   ]
  },
  {
   "cell_type": "code",
   "execution_count": 33,
   "metadata": {
    "collapsed": false
   },
   "outputs": [
    {
     "data": {
      "image/png": "[encoded data removed]",
      "text/plain": [
       "<matplotlib.figure.Figure at 0x7ff5fdda43c8>"
      ]
     },
     "metadata": {},
     "output_type": "display_data"
    }
   ],
   "source": [
    "i_app = -0*30;\n",
    "P = (i_app,)\n",
    "Y = odeint(rhs, [-85], time, P)\n",
    "plt.plot(time,Y); plt.show()\n",
    "\n"
   ]
  },
  {
   "cell_type": "code",
   "execution_count": 18,
   "metadata": {
    "collapsed": false
   },
   "outputs": [
    {
     "name": "stdout",
     "output_type": "stream",
     "text": [
      "-87.89223409078865 54.794047723492945 -16.54909318364785 -16.5522008381\n"
     ]
    }
   ],
   "source": [
    "# The equilibrium potential for the cell as a whole:\n",
    "V_eq = (g_Na*E_Na + g_K*E_K)/(g_Na + g_K)\n",
    "# The membrane potential at the end of the computation:\n",
    "V_end = Y[-1,0]\n",
    "print(E_K, E_Na, V_eq,V_end)\n"
   ]
  },
  {
   "cell_type": "code",
   "execution_count": null,
   "metadata": {
    "collapsed": false
   },
   "outputs": [],
   "source": []
  },
  {
   "cell_type": "code",
   "execution_count": null,
   "metadata": {
    "collapsed": false
   },
   "outputs": [],
   "source": [
    "\n"
   ]
  },
  {
   "cell_type": "code",
   "execution_count": null,
   "metadata": {
    "collapsed": false
   },
   "outputs": [],
   "source": []
  },
  {
   "cell_type": "code",
   "execution_count": null,
   "metadata": {
    "collapsed": false
   },
   "outputs": [],
   "source": []
  },
  {
   "cell_type": "code",
   "execution_count": null,
   "metadata": {
    "collapsed": true
   },
   "outputs": [],
   "source": []
  }
 ],
 "metadata": {
  "kernelspec": {
   "display_name": "Python 3",
   "language": "python",
   "name": "python3"
  },
  "language_info": {
   "codemirror_mode": {
    "name": "ipython",
    "version": 3
   },
   "file_extension": ".py",
   "mimetype": "text/x-python",
   "name": "python",
   "nbconvert_exporter": "python",
   "pygments_lexer": "ipython3",
   "version": "3.6.0"
  }
 },
 "nbformat": 4,
 "nbformat_minor": 2
}
