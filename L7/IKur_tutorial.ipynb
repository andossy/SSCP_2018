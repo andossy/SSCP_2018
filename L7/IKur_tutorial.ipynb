{
 "cells": [
  {
   "cell_type": "code",
   "execution_count": 1,
   "metadata": {
    "collapsed": true
   },
   "outputs": [],
   "source": [
    "import numpy as np\n",
    "import matplotlib.pylab as plt\n",
    "%matplotlib notebook\n",
    "import scipy.optimize as opt\n",
    "import math\n",
    "from scipy.integrate import ode\n",
    "#import ObFunc"
   ]
  },
  {
   "cell_type": "code",
   "execution_count": 2,
   "metadata": {
    "collapsed": true
   },
   "outputs": [],
   "source": [
    "SSA_data = np.loadtxt(\"SS\",dtype='float')\n",
    "# The parameter vector\n",
    "init_params = [48.4, 49.2, 48.4, 49.2, 48.4, \n",
    "               13.6, 1, 0.023, 48.4, 13.6, \n",
    "               0.00001, 0.00001, 0.3]\n",
    "step_length = 1000\n",
    "#print (init_params)\n",
    "#print (SSA_data)"
   ]
  },
  {
   "cell_type": "code",
   "execution_count": 3,
   "metadata": {
    "collapsed": true
   },
   "outputs": [],
   "source": [
    "def f(t,y,P):\n",
    "# A Markov state model for the rapidly activating inward rectifying potassium current (IKur)      \n",
    "    V = P[-1] # For simplicity we pass voltage as a parameter (when would this be a bad idea?)\n",
    "    dim = y.shape\n",
    "    dy = np.zeros((dim))\n",
    "    #states\n",
    "    O = int(0)\n",
    "    I = int(1)\n",
    "    C4 = int(2)\n",
    "    C3 = int(3)\n",
    "    C2 = int(4)\n",
    "    C1 = int(5)\n",
    "    B = int(6)\n",
    "    \n",
    "    n = 7 # number of states\n",
    "    A = np.zeros((n,n)) # initialize rate mass matrix for output\n",
    "\n",
    "    alpha = math.exp((V-P[0])/P[1])\n",
    "    beta = math.exp((V-P[2])/P[3])*math.exp(-(V+P[4])/P[5])/(P[6]+P[7]*math.exp(-(V+P[8])/P[9]))\n",
    "\n",
    "    #calculate transitions between closed states\n",
    "    A[C1, C2] = beta\n",
    "    A[C2, C1] = 4*alpha\n",
    "    A[C2, C3] = 2*beta\n",
    "    A[C3, C2] = 3*alpha\n",
    "    A[C3, C4]  = 3*beta\n",
    "    A[C4, C3]  = 2*alpha\n",
    "    \n",
    "    #calculate transitions between closed and open states\n",
    "    A[O, C4]  = alpha\n",
    "    A[C4, O]  = 4*beta\n",
    "    \n",
    "    #calculate transitions between inactive and open states\n",
    "    A[O, I]  = P[10] # k1\n",
    "    A[I, O]  = P[11] # k2\n",
    "    \n",
    "    #calculate transitions between open and blocked states\n",
    "    A[O,B] = 0\n",
    "    A[B,O] = 0\n",
    "    \n",
    "    for i in range(n):\n",
    "        A[i,i] = -math.fsum(A[:,i])\n",
    "    \n",
    "    dy = A.dot(y)\n",
    "    return [dy]"
   ]
  },
  {
   "cell_type": "code",
   "execution_count": 4,
   "metadata": {
    "collapsed": true
   },
   "outputs": [],
   "source": [
    "def Activation(P,data,duration):\n",
    "    \n",
    "    #configure inputs\n",
    "    V = data[:,0]\n",
    "    ntsteps = int(duration*10)\n",
    "    \n",
    "    #initialize outputs\n",
    "    t = np.zeros((ntsteps))\n",
    "    y = np.zeros((ntsteps,7))\n",
    "    model_peaks = np.zeros((len(V)))\n",
    "    Po_out = np.zeros((ntsteps,len(V)))\n",
    "    \n",
    "    #step through the test potentials in your reference data\n",
    "    for n,i in enumerate(V):\n",
    "        \n",
    "        # First reset your initial conditions to the holding potential at the beginning of each step\n",
    "        # Question: Is this always a good idea? Why or why not?\n",
    "        \n",
    "        V_H = -70\n",
    "        y0 = np.zeros((7))\n",
    "        alpha = math.exp((V_H-P[0])/P[1])\n",
    "        beta = math.exp((V_H-P[2])/P[3])*math.exp(-(V_H+P[4])/P[5])/(P[6]+P[7]*math.exp(-(V_H+P[8])/P[9]))\n",
    "        gamma = beta/alpha\n",
    "        Kblk = P[10]/P[11]\n",
    "        o = 1/((1+gamma)**4+Kblk)\n",
    "        \n",
    "        # The initial conditions for the model:\n",
    "        y0 = [o, o*Kblk, o*4*gamma, o*6*gamma**2, o*4*gamma**3, o*gamma**4, 0]\n",
    "        t0 = 0\n",
    "        \n",
    "        # collect the parameters and include the step voltage in the last position\n",
    "        if n==0 and len(P)<14:        \n",
    "            P.append(i)\n",
    "        else:\n",
    "            P[-1]=i\n",
    "            \n",
    "        # integrate the model at the current step potential                         \n",
    "        r = ode(f).set_integrator('vode', method='bdf', with_jacobian=False, rtol=1e-5, max_step=0.1)\n",
    "        r.set_initial_value(y0,t0).set_f_params(P)\n",
    "        dt = 0.1\n",
    "        ind = 0\n",
    "        while r.successful() and r.t < duration and ind < ntsteps:\n",
    "            r.integrate(r.t+dt)\n",
    "            t[ind]=r.t\n",
    "            y[ind,:]=r.y\n",
    "            ind = ind+1\n",
    "        \n",
    "        #store the open probability data and calculate the error metrics\n",
    "        Po_out[:,n] = y[:,0]\n",
    "        model_peaks[n] = P[-2]*y[:,0].max()\n",
    "        out = {'t':t, 'Po':Po_out,'I_peak':model_peaks}        \n",
    "        \n",
    "    return out\n",
    "\n"
   ]
  },
  {
   "cell_type": "code",
   "execution_count": 5,
   "metadata": {
    "collapsed": true
   },
   "outputs": [],
   "source": [
    "dats = Activation(init_params,SSA_data,step_length)\n",
    "model_I = dats['I_peak']\n",
    "Po = dats['Po']\n",
    "t = dats['t']\n",
    "#print (t)\n",
    "#print (Po)\n",
    "#print (model_I)\n",
    "    "
   ]
  },
  {
   "cell_type": "code",
   "execution_count": 6,
   "metadata": {},
   "outputs": [
    {
     "data": {
      "text/plain": [
       "<matplotlib.text.Text at 0x7f92c8c13898>"
      ]
     },
     "execution_count": 6,
     "metadata": {},
     "output_type": "execute_result"
    },
    {
     "data": {
      "image/png": "[encoded data removed]",
      "text/plain": [
       "<matplotlib.figure.Figure at 0x7f92c8c0f940>"
      ]
     },
     "metadata": {},
     "output_type": "display_data"
    }
   ],
   "source": [
    "V = SSA_data[:,0]\n",
    "I = SSA_data[:,1]\n",
    "plt.figure()\n",
    "plt.plot(V,I,'b-')\n",
    "plt.plot(V,model_I,'r-')\n",
    "plt.xlabel('Step potential [mV]')\n",
    "plt.ylabel('Current (A/F)')"
   ]
  },
  {
   "cell_type": "code",
   "execution_count": 7,
   "metadata": {
    "collapsed": true
   },
   "outputs": [],
   "source": [
    "def cost(P,data,duration):\n",
    "    \n",
    "    outs = Activation(P,data,duration)\n",
    "    model_peaks = outs['I_peak']\n",
    "       \n",
    "    dev_vector = model_peaks - I\n",
    "    error = np.linalg.norm(dev_vector,2)\n",
    "        \n",
    "    return error\n"
   ]
  },
  {
   "cell_type": "code",
   "execution_count": 8,
   "metadata": {},
   "outputs": [
    {
     "name": "stdout",
     "output_type": "stream",
     "text": [
      "Warning: Maximum number of function evaluations has been exceeded.\n"
     ]
    }
   ],
   "source": [
    "[P_opt, f_opt, iters, funcalls, warnflag] = opt.fmin(cost, init_params, args=(SSA_data,step_length),\n",
    "                                                    maxiter = 200, maxfun = 200, full_output=True, disp=True)\n"
   ]
  },
  {
   "cell_type": "code",
   "execution_count": 9,
   "metadata": {},
   "outputs": [
    {
     "data": {
      "text/plain": [
       "<matplotlib.text.Text at 0x7f9293cdcb00>"
      ]
     },
     "execution_count": 9,
     "metadata": {},
     "output_type": "execute_result"
    },
    {
     "data": {
      "image/png": "[encoded data removed]",
      "text/plain": [
       "<matplotlib.figure.Figure at 0x7f9293caa080>"
      ]
     },
     "metadata": {},
     "output_type": "display_data"
    }
   ],
   "source": [
    "dats2 = Activation(P_opt,SSA_data,step_length)\n",
    "model_I = dats2['I_peak']\n",
    "plt.figure()\n",
    "plt.plot(V,I,'b-')\n",
    "plt.plot(V,model_I,'r-')\n",
    "plt.xlabel('Step potential [mV]')\n",
    "plt.ylabel('Current (A/F)')"
   ]
  },
  {
   "cell_type": "code",
   "execution_count": null,
   "metadata": {
    "collapsed": true
   },
   "outputs": [],
   "source": []
  }
 ],
 "metadata": {
  "kernelspec": {
   "display_name": "Python 3",
   "language": "python",
   "name": "python3"
  },
  "language_info": {
   "codemirror_mode": {
    "name": "ipython",
    "version": 3
   },
   "file_extension": ".py",
   "mimetype": "text/x-python",
   "name": "python",
   "nbconvert_exporter": "python",
   "pygments_lexer": "ipython3",
   "version": "3.5.2"
  }
 },
 "nbformat": 4,
 "nbformat_minor": 1
}
